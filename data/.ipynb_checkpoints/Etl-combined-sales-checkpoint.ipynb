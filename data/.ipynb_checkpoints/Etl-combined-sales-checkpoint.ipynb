{
 "cells": [
  {
   "cell_type": "code",
   "execution_count": 2,
   "id": "2c657603-d83a-421a-bde5-ed30ab8d1cb9",
   "metadata": {},
   "outputs": [],
   "source": [
    "import polars as pl\n",
    "import pandas as pd"
   ]
  },
  {
   "cell_type": "code",
   "execution_count": 3,
   "id": "09110580-c372-4a7e-a662-f951dc6dc36a",
   "metadata": {},
   "outputs": [],
   "source": [
    "# Load the data from products.parquet file.\n",
    "products = pl.read_parquet('products.parquet')"
   ]
  },
  {
   "cell_type": "code",
   "execution_count": 4,
   "id": "f72ae8b5-f670-478e-b446-23b374d9ac5a",
   "metadata": {},
   "outputs": [
    {
     "data": {
      "text/html": [
       "<div><style>\n",
       ".dataframe > thead > tr > th,\n",
       ".dataframe > tbody > tr > td {\n",
       "  text-align: right;\n",
       "}\n",
       "</style>\n",
       "<small>shape: (10, 3)</small><table border=\"1\" class=\"dataframe\"><thead><tr><th>product_id</th><th>product_name</th><th>unit_price</th></tr><tr><td>i64</td><td>str</td><td>f64</td></tr></thead><tbody><tr><td>1</td><td>&quot;Product A&quot;</td><td>10.0</td></tr><tr><td>2</td><td>&quot;Product B&quot;</td><td>15.0</td></tr><tr><td>3</td><td>&quot;Product C&quot;</td><td>20.0</td></tr><tr><td>4</td><td>&quot;Product D&quot;</td><td>25.0</td></tr><tr><td>5</td><td>&quot;Product E&quot;</td><td>30.0</td></tr><tr><td>6</td><td>&quot;Product F&quot;</td><td>12.0</td></tr><tr><td>7</td><td>&quot;Product G&quot;</td><td>18.0</td></tr><tr><td>8</td><td>&quot;Product H&quot;</td><td>22.0</td></tr><tr><td>9</td><td>&quot;Product I&quot;</td><td>28.0</td></tr><tr><td>10</td><td>&quot;Product J&quot;</td><td>35.0</td></tr></tbody></table></div>"
      ],
      "text/plain": [
       "shape: (10, 3)\n",
       "┌────────────┬──────────────┬────────────┐\n",
       "│ product_id ┆ product_name ┆ unit_price │\n",
       "│ ---        ┆ ---          ┆ ---        │\n",
       "│ i64        ┆ str          ┆ f64        │\n",
       "╞════════════╪══════════════╪════════════╡\n",
       "│ 1          ┆ Product A    ┆ 10.0       │\n",
       "│ 2          ┆ Product B    ┆ 15.0       │\n",
       "│ 3          ┆ Product C    ┆ 20.0       │\n",
       "│ 4          ┆ Product D    ┆ 25.0       │\n",
       "│ …          ┆ …            ┆ …          │\n",
       "│ 7          ┆ Product G    ┆ 18.0       │\n",
       "│ 8          ┆ Product H    ┆ 22.0       │\n",
       "│ 9          ┆ Product I    ┆ 28.0       │\n",
       "│ 10         ┆ Product J    ┆ 35.0       │\n",
       "└────────────┴──────────────┴────────────┘"
      ]
     },
     "execution_count": 4,
     "metadata": {},
     "output_type": "execute_result"
    }
   ],
   "source": [
    "products"
   ]
  },
  {
   "cell_type": "code",
   "execution_count": 5,
   "id": "1d959d1b-c38b-489b-9e84-b429dd0c870d",
   "metadata": {},
   "outputs": [],
   "source": [
    "# Load the data from sales.parquet file.\n",
    "sales = pl.read_parquet('sales.parquet')"
   ]
  },
  {
   "cell_type": "code",
   "execution_count": 6,
   "id": "aa6e7759-af84-470d-aa86-fec1ad07d1bf",
   "metadata": {},
   "outputs": [
    {
     "data": {
      "text/html": [
       "<div><style>\n",
       ".dataframe > thead > tr > th,\n",
       ".dataframe > tbody > tr > td {\n",
       "  text-align: right;\n",
       "}\n",
       "</style>\n",
       "<small>shape: (50, 4)</small><table border=\"1\" class=\"dataframe\"><thead><tr><th>sale_id</th><th>product_id</th><th>quantity_sold</th><th>sale_date</th></tr><tr><td>i64</td><td>i64</td><td>i64</td><td>str</td></tr></thead><tbody><tr><td>1</td><td>10</td><td>20</td><td>&quot;2022-08-12&quot;</td></tr><tr><td>2</td><td>1</td><td>16</td><td>&quot;2022-12-01&quot;</td></tr><tr><td>3</td><td>4</td><td>4</td><td>&quot;2023-07-15&quot;</td></tr><tr><td>4</td><td>7</td><td>1</td><td>&quot;2023-01-21&quot;</td></tr><tr><td>5</td><td>1</td><td>15</td><td>&quot;2023-08-01&quot;</td></tr><tr><td>6</td><td>9</td><td>1</td><td>&quot;2023-04-09&quot;</td></tr><tr><td>7</td><td>4</td><td>4</td><td>&quot;2022-12-31&quot;</td></tr><tr><td>8</td><td>6</td><td>19</td><td>&quot;2022-11-23&quot;</td></tr><tr><td>9</td><td>3</td><td>19</td><td>&quot;2023-01-10&quot;</td></tr><tr><td>10</td><td>4</td><td>10</td><td>&quot;2023-05-11&quot;</td></tr><tr><td>11</td><td>9</td><td>16</td><td>&quot;2023-06-01&quot;</td></tr><tr><td>12</td><td>10</td><td>1</td><td>&quot;2023-07-07&quot;</td></tr><tr><td>&hellip;</td><td>&hellip;</td><td>&hellip;</td><td>&hellip;</td></tr><tr><td>39</td><td>3</td><td>10</td><td>&quot;2023-05-05&quot;</td></tr><tr><td>40</td><td>6</td><td>11</td><td>&quot;2023-05-08&quot;</td></tr><tr><td>41</td><td>5</td><td>20</td><td>&quot;2022-10-06&quot;</td></tr><tr><td>42</td><td>4</td><td>13</td><td>&quot;2023-02-26&quot;</td></tr><tr><td>43</td><td>8</td><td>15</td><td>&quot;2023-06-25&quot;</td></tr><tr><td>44</td><td>8</td><td>12</td><td>&quot;2022-11-23&quot;</td></tr><tr><td>45</td><td>5</td><td>12</td><td>&quot;2023-05-23&quot;</td></tr><tr><td>46</td><td>1</td><td>6</td><td>&quot;2023-07-15&quot;</td></tr><tr><td>47</td><td>10</td><td>8</td><td>&quot;2022-08-12&quot;</td></tr><tr><td>48</td><td>9</td><td>18</td><td>&quot;2022-12-16&quot;</td></tr><tr><td>49</td><td>1</td><td>15</td><td>&quot;2022-12-29&quot;</td></tr><tr><td>50</td><td>8</td><td>14</td><td>&quot;2023-08-02&quot;</td></tr></tbody></table></div>"
      ],
      "text/plain": [
       "shape: (50, 4)\n",
       "┌─────────┬────────────┬───────────────┬────────────┐\n",
       "│ sale_id ┆ product_id ┆ quantity_sold ┆ sale_date  │\n",
       "│ ---     ┆ ---        ┆ ---           ┆ ---        │\n",
       "│ i64     ┆ i64        ┆ i64           ┆ str        │\n",
       "╞═════════╪════════════╪═══════════════╪════════════╡\n",
       "│ 1       ┆ 10         ┆ 20            ┆ 2022-08-12 │\n",
       "│ 2       ┆ 1          ┆ 16            ┆ 2022-12-01 │\n",
       "│ 3       ┆ 4          ┆ 4             ┆ 2023-07-15 │\n",
       "│ 4       ┆ 7          ┆ 1             ┆ 2023-01-21 │\n",
       "│ …       ┆ …          ┆ …             ┆ …          │\n",
       "│ 47      ┆ 10         ┆ 8             ┆ 2022-08-12 │\n",
       "│ 48      ┆ 9          ┆ 18            ┆ 2022-12-16 │\n",
       "│ 49      ┆ 1          ┆ 15            ┆ 2022-12-29 │\n",
       "│ 50      ┆ 8          ┆ 14            ┆ 2023-08-02 │\n",
       "└─────────┴────────────┴───────────────┴────────────┘"
      ]
     },
     "execution_count": 6,
     "metadata": {},
     "output_type": "execute_result"
    }
   ],
   "source": [
    "sales"
   ]
  },
  {
   "cell_type": "code",
   "execution_count": 7,
   "id": "3b778284-f63f-4b6f-8315-d901fbc3b455",
   "metadata": {},
   "outputs": [],
   "source": [
    "# Merge the data from both files based on the product_id column to create a new dataset.\n",
    "combined_sales = products.join(sales, on=\"product_id\", how=\"inner\")"
   ]
  },
  {
   "cell_type": "code",
   "execution_count": 8,
   "id": "fe4987e8-3c32-48a8-ad59-3b9e6a3f332b",
   "metadata": {},
   "outputs": [],
   "source": [
    "# Calculate the total revenue for each sale by multiplying the quantity_sold with the unit_price for each product.\n",
    "combined_sales = combined_sales.with_columns(pl.col(\"product_id\"), (pl.col(\"unit_price\") * pl.col(\"quantity_sold\")).alias(\"total_revenue\"))"
   ]
  },
  {
   "cell_type": "code",
   "execution_count": 9,
   "id": "64805157-9641-442c-aa2f-0742a8a388f3",
   "metadata": {},
   "outputs": [
    {
     "data": {
      "text/html": [
       "<div><style>\n",
       ".dataframe > thead > tr > th,\n",
       ".dataframe > tbody > tr > td {\n",
       "  text-align: right;\n",
       "}\n",
       "</style>\n",
       "<small>shape: (50, 7)</small><table border=\"1\" class=\"dataframe\"><thead><tr><th>product_id</th><th>product_name</th><th>unit_price</th><th>sale_id</th><th>quantity_sold</th><th>sale_date</th><th>total_revenue</th></tr><tr><td>i64</td><td>str</td><td>f64</td><td>i64</td><td>i64</td><td>str</td><td>f64</td></tr></thead><tbody><tr><td>10</td><td>&quot;Product J&quot;</td><td>35.0</td><td>1</td><td>20</td><td>&quot;2022-08-12&quot;</td><td>700.0</td></tr><tr><td>1</td><td>&quot;Product A&quot;</td><td>10.0</td><td>2</td><td>16</td><td>&quot;2022-12-01&quot;</td><td>160.0</td></tr><tr><td>4</td><td>&quot;Product D&quot;</td><td>25.0</td><td>3</td><td>4</td><td>&quot;2023-07-15&quot;</td><td>100.0</td></tr><tr><td>7</td><td>&quot;Product G&quot;</td><td>18.0</td><td>4</td><td>1</td><td>&quot;2023-01-21&quot;</td><td>18.0</td></tr><tr><td>1</td><td>&quot;Product A&quot;</td><td>10.0</td><td>5</td><td>15</td><td>&quot;2023-08-01&quot;</td><td>150.0</td></tr><tr><td>9</td><td>&quot;Product I&quot;</td><td>28.0</td><td>6</td><td>1</td><td>&quot;2023-04-09&quot;</td><td>28.0</td></tr><tr><td>4</td><td>&quot;Product D&quot;</td><td>25.0</td><td>7</td><td>4</td><td>&quot;2022-12-31&quot;</td><td>100.0</td></tr><tr><td>6</td><td>&quot;Product F&quot;</td><td>12.0</td><td>8</td><td>19</td><td>&quot;2022-11-23&quot;</td><td>228.0</td></tr><tr><td>3</td><td>&quot;Product C&quot;</td><td>20.0</td><td>9</td><td>19</td><td>&quot;2023-01-10&quot;</td><td>380.0</td></tr><tr><td>4</td><td>&quot;Product D&quot;</td><td>25.0</td><td>10</td><td>10</td><td>&quot;2023-05-11&quot;</td><td>250.0</td></tr><tr><td>9</td><td>&quot;Product I&quot;</td><td>28.0</td><td>11</td><td>16</td><td>&quot;2023-06-01&quot;</td><td>448.0</td></tr><tr><td>10</td><td>&quot;Product J&quot;</td><td>35.0</td><td>12</td><td>1</td><td>&quot;2023-07-07&quot;</td><td>35.0</td></tr><tr><td>&hellip;</td><td>&hellip;</td><td>&hellip;</td><td>&hellip;</td><td>&hellip;</td><td>&hellip;</td><td>&hellip;</td></tr><tr><td>3</td><td>&quot;Product C&quot;</td><td>20.0</td><td>39</td><td>10</td><td>&quot;2023-05-05&quot;</td><td>200.0</td></tr><tr><td>6</td><td>&quot;Product F&quot;</td><td>12.0</td><td>40</td><td>11</td><td>&quot;2023-05-08&quot;</td><td>132.0</td></tr><tr><td>5</td><td>&quot;Product E&quot;</td><td>30.0</td><td>41</td><td>20</td><td>&quot;2022-10-06&quot;</td><td>600.0</td></tr><tr><td>4</td><td>&quot;Product D&quot;</td><td>25.0</td><td>42</td><td>13</td><td>&quot;2023-02-26&quot;</td><td>325.0</td></tr><tr><td>8</td><td>&quot;Product H&quot;</td><td>22.0</td><td>43</td><td>15</td><td>&quot;2023-06-25&quot;</td><td>330.0</td></tr><tr><td>8</td><td>&quot;Product H&quot;</td><td>22.0</td><td>44</td><td>12</td><td>&quot;2022-11-23&quot;</td><td>264.0</td></tr><tr><td>5</td><td>&quot;Product E&quot;</td><td>30.0</td><td>45</td><td>12</td><td>&quot;2023-05-23&quot;</td><td>360.0</td></tr><tr><td>1</td><td>&quot;Product A&quot;</td><td>10.0</td><td>46</td><td>6</td><td>&quot;2023-07-15&quot;</td><td>60.0</td></tr><tr><td>10</td><td>&quot;Product J&quot;</td><td>35.0</td><td>47</td><td>8</td><td>&quot;2022-08-12&quot;</td><td>280.0</td></tr><tr><td>9</td><td>&quot;Product I&quot;</td><td>28.0</td><td>48</td><td>18</td><td>&quot;2022-12-16&quot;</td><td>504.0</td></tr><tr><td>1</td><td>&quot;Product A&quot;</td><td>10.0</td><td>49</td><td>15</td><td>&quot;2022-12-29&quot;</td><td>150.0</td></tr><tr><td>8</td><td>&quot;Product H&quot;</td><td>22.0</td><td>50</td><td>14</td><td>&quot;2023-08-02&quot;</td><td>308.0</td></tr></tbody></table></div>"
      ],
      "text/plain": [
       "shape: (50, 7)\n",
       "┌────────────┬──────────────┬────────────┬─────────┬───────────────┬────────────┬───────────────┐\n",
       "│ product_id ┆ product_name ┆ unit_price ┆ sale_id ┆ quantity_sold ┆ sale_date  ┆ total_revenue │\n",
       "│ ---        ┆ ---          ┆ ---        ┆ ---     ┆ ---           ┆ ---        ┆ ---           │\n",
       "│ i64        ┆ str          ┆ f64        ┆ i64     ┆ i64           ┆ str        ┆ f64           │\n",
       "╞════════════╪══════════════╪════════════╪═════════╪═══════════════╪════════════╪═══════════════╡\n",
       "│ 10         ┆ Product J    ┆ 35.0       ┆ 1       ┆ 20            ┆ 2022-08-12 ┆ 700.0         │\n",
       "│ 1          ┆ Product A    ┆ 10.0       ┆ 2       ┆ 16            ┆ 2022-12-01 ┆ 160.0         │\n",
       "│ 4          ┆ Product D    ┆ 25.0       ┆ 3       ┆ 4             ┆ 2023-07-15 ┆ 100.0         │\n",
       "│ 7          ┆ Product G    ┆ 18.0       ┆ 4       ┆ 1             ┆ 2023-01-21 ┆ 18.0          │\n",
       "│ …          ┆ …            ┆ …          ┆ …       ┆ …             ┆ …          ┆ …             │\n",
       "│ 10         ┆ Product J    ┆ 35.0       ┆ 47      ┆ 8             ┆ 2022-08-12 ┆ 280.0         │\n",
       "│ 9          ┆ Product I    ┆ 28.0       ┆ 48      ┆ 18            ┆ 2022-12-16 ┆ 504.0         │\n",
       "│ 1          ┆ Product A    ┆ 10.0       ┆ 49      ┆ 15            ┆ 2022-12-29 ┆ 150.0         │\n",
       "│ 8          ┆ Product H    ┆ 22.0       ┆ 50      ┆ 14            ┆ 2023-08-02 ┆ 308.0         │\n",
       "└────────────┴──────────────┴────────────┴─────────┴───────────────┴────────────┴───────────────┘"
      ]
     },
     "execution_count": 9,
     "metadata": {},
     "output_type": "execute_result"
    }
   ],
   "source": [
    "combined_sales"
   ]
  },
  {
   "cell_type": "code",
   "execution_count": 10,
   "id": "1ed82827-ab47-47f6-9a22-b92546a2f4b4",
   "metadata": {},
   "outputs": [
    {
     "data": {
      "text/plain": [
       "['product_id',\n",
       " 'product_name',\n",
       " 'unit_price',\n",
       " 'sale_id',\n",
       " 'quantity_sold',\n",
       " 'sale_date',\n",
       " 'total_revenue']"
      ]
     },
     "execution_count": 10,
     "metadata": {},
     "output_type": "execute_result"
    }
   ],
   "source": [
    "combined_sales.columns"
   ]
  },
  {
   "cell_type": "code",
   "execution_count": 11,
   "id": "f64f6447-fc9e-4f44-aa2e-907a165f5f9b",
   "metadata": {},
   "outputs": [],
   "source": [
    "# Save the transformed data into a new PARQUET file named combined_sales.parquet.\n",
    "combined_sales = combined_sales.select(pl.col([\"sale_id\", \"product_id\", \"product_name\", \"quantity_sold\", \"unit_price\", \"sale_date\", \"total_revenue\"]))\n",
    "combined_sales.write_parquet(\"combined_sales.parquet\")"
   ]
  },
  {
   "cell_type": "code",
   "execution_count": 12,
   "id": "78dccd4e-a688-40d7-a67b-4687a9c53ae5",
   "metadata": {},
   "outputs": [],
   "source": [
    "df = pl.read_parquet('combined_sales.parquet')"
   ]
  },
  {
   "cell_type": "code",
   "execution_count": 13,
   "id": "a8590e66-642a-4122-8220-ab3f6f33ff6c",
   "metadata": {},
   "outputs": [
    {
     "data": {
      "text/plain": [
       "['sale_id',\n",
       " 'product_id',\n",
       " 'product_name',\n",
       " 'quantity_sold',\n",
       " 'unit_price',\n",
       " 'sale_date',\n",
       " 'total_revenue']"
      ]
     },
     "execution_count": 13,
     "metadata": {},
     "output_type": "execute_result"
    }
   ],
   "source": [
    "df.columns"
   ]
  },
  {
   "cell_type": "code",
   "execution_count": 14,
   "id": "7686abe7-76b6-4a7c-9093-d20f273d51eb",
   "metadata": {},
   "outputs": [
    {
     "data": {
      "text/plain": [
       "<sqlite3.Cursor at 0x1e18eba8f40>"
      ]
     },
     "execution_count": 14,
     "metadata": {},
     "output_type": "execute_result"
    }
   ],
   "source": [
    "import sqlite3\n",
    "conn = sqlite3.connect(\"cheil_sales.db\")\n",
    "cur = conn.cursor()\n",
    "cur.execute(\"CREATE TABLE combined_sales(sale_id, product_id, product_name, quantity_sold, unit_price, sale_date, total_revenue)\")"
   ]
  },
  {
   "cell_type": "code",
   "execution_count": 15,
   "id": "a2e0bece-6bcb-48b7-9556-6e322f534b46",
   "metadata": {},
   "outputs": [
    {
     "data": {
      "text/plain": [
       "50"
      ]
     },
     "execution_count": 15,
     "metadata": {},
     "output_type": "execute_result"
    }
   ],
   "source": [
    "combined_sales.to_pandas().to_sql('combined_sales', conn, index=True, if_exists='replace')"
   ]
  },
  {
   "cell_type": "code",
   "execution_count": null,
   "id": "5263e0d9-3961-410b-a408-a3b9dc70e399",
   "metadata": {},
   "outputs": [],
   "source": []
  }
 ],
 "metadata": {
  "kernelspec": {
   "display_name": "Python 3 (ipykernel)",
   "language": "python",
   "name": "python3"
  },
  "language_info": {
   "codemirror_mode": {
    "name": "ipython",
    "version": 3
   },
   "file_extension": ".py",
   "mimetype": "text/x-python",
   "name": "python",
   "nbconvert_exporter": "python",
   "pygments_lexer": "ipython3",
   "version": "3.11.4"
  }
 },
 "nbformat": 4,
 "nbformat_minor": 5
}
